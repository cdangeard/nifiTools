{
 "cells": [
  {
   "cell_type": "code",
   "execution_count": 8,
   "metadata": {},
   "outputs": [],
   "source": [
    "dictParStyle = {\n",
    "    \"exportation de flux\"   : ['org.apache.nifi.processors.standard.PutFile',\n",
    "                            ],\n",
    "    \"Mise à jour Attribut\"  : ['org.apache.nifi.processors.attributes.UpdateAttribute',\n",
    "                                'org.apache.nifi.processors.standard.ExtractText',\n",
    "                                'org.apache.nifi.processors.standard.EvaluateJsonPath',\n",
    "                                'org.apache.nifi.processors.standard.FetchDistributedMapCache',\n",
    "                                'org.apache.nifi.processors.standard.LookupAttribute',\n",
    "                            ],\n",
    "    \"Routage\"               : ['org.apache.nifi.processors.standard.RouteOnAttribute',\n",
    "                               'org.apache.nifi.processors.standard.RouteText',\n",
    "                               'org.apache.nifi.processors.standard.RouteOnContent',\n",
    "                               'org.apache.nifi.processors.standard.ValidateXml',\n",
    "                               'org.apache.nifi.processors.standard.ValidateCsv'\n",
    "                            ],\n",
    "    \"importation de flux\" : ['org.apache.nifi.processors.standard.GetFile',\n",
    "                             'org.apache.nifi.processors.standard.GenerateFlowFile',\n",
    "                             'org.apache.nifi.processors.standard.ListFile',\n",
    "                             ],\n",
    "    \"Mise à jour contenu\" : ['org.apache.nifi.processors.standard.ReplaceText',\n",
    "                             'org.apache.nifi.processors.standard.JoltTransformJSON',\n",
    "                             'org.apache.nifi.processors.jolt.record.JoltTransformRecord',\n",
    "                             'org.apache.nifi.processors.standard.QueryRecord',\n",
    "                             'org.apache.nifi.processors.standard.FetchFile',\n",
    "                             'org.apache.nifi.processors.standard.TransformXml',\n",
    "                             'org.apache.nifi.processors.standard.ConvertCharacterSet',\n",
    "                             'org.apache.nifi.processors.standard.ConvertRecord',\n",
    "                             'org.apache.nifi.processors.poi.ConvertExcelToCSVProcessor',\n",
    "                            ],\n",
    "    \"mise a jour dataflow\" : ['org.apache.nifi.processors.standard.MergeContent',\n",
    "                              'org.apache.nifi.processors.standard.SplitText',\n",
    "                              'org.apache.nifi.processors.standard.SplitJson',\n",
    "                              'org.apache.nifi.processors.standard.SplitRecord',\n",
    "                              'org.apache.nifi.processors.standard.PutDistributedMapCache',\n",
    "                              'org.apache.nifi.processors.standard.JoinEnrichment',\n",
    "                              'org.apache.nifi.processors.standard.ForkEnrichment'\n",
    "                             ],\n",
    "    \"script groovy specifique\" : ['org.apache.nifi.processors.script.ExecuteGroovyScript',\n",
    "                                  'org.apache.nifi.processors.standard.ExecuteStreamCommand',\n",
    "                                  ],\n",
    "    \"Log\" : ['org.apache.nifi.processors.standard.LogMessage',\n",
    "             'org.apache.nifi.processors.standard.LogAttribute',\n",
    "             'org.apache.nifi.processors.standard.PutEmail']\n",
    "}\n",
    "\n",
    "dictColorsType = {\n",
    "    \"exportation de flux\"       :\"#f0b2bd\",\n",
    "    \"Mise à jour Attribut\"      :\"#ebd5bf\",\n",
    "    \"Routage\"                   :\"#f5f5b1\",\n",
    "    \"importation de flux\"       :\"#bbedb0\",\n",
    "    \"Mise à jour contenu\"       :\"#9fcfeb\",\n",
    "    \"mise a jour dataflow\"      :\"#cda7e8\",\n",
    "    \"script groovy specifique\"  :\"#ebaeeb\",\n",
    "    \"Log\" : \"#ff2b2b\"\n",
    "}"
   ]
  },
  {
   "cell_type": "code",
   "execution_count": 9,
   "metadata": {},
   "outputs": [],
   "source": [
    "import json\n",
    "\n",
    "dictTypeStyle = {i : k for k, v in dictParStyle.items() for i in v}\n",
    "dictColors = {type : dictColorsType[dictTypeStyle[type]] for type in dictTypeStyle.keys()}\n",
    "\n",
    "with open('colorPatern.json', 'w') as outfile: \n",
    "    json.dump(dictColors, outfile, indent=2)"
   ]
  }
 ],
 "metadata": {
  "kernelspec": {
   "display_name": "py10",
   "language": "python",
   "name": "py10"
  },
  "language_info": {
   "codemirror_mode": {
    "name": "ipython",
    "version": 3
   },
   "file_extension": ".py",
   "mimetype": "text/x-python",
   "name": "python",
   "nbconvert_exporter": "python",
   "pygments_lexer": "ipython3",
   "version": "3.10.9"
  }
 },
 "nbformat": 4,
 "nbformat_minor": 2
}
